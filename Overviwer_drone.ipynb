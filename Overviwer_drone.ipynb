{
 "cells": [
  {
   "cell_type": "markdown",
   "metadata": {},
   "source": [
    "## Hardware System Decomposition"
   ]
  },
  {
   "cell_type": "markdown",
   "metadata": {},
   "source": [
    "#### Guidance, Navigation and Control Systems"
   ]
  },
  {
   "cell_type": "markdown",
   "metadata": {},
   "source": [
    "Determines where the drone is in space, collect sensor data, determine motor commands to maneuver the quadcopter to desired state."
   ]
  },
  {
   "cell_type": "markdown",
   "metadata": {},
   "source": [
    "- Sensing\n",
    "    - GPS : Determine lat/log/alt, UTC, heading and speed.\n",
    "    \n",
    "    - IMU (Inertial Measurement Unit) : Dertermine body orientation and rates.\n",
    "        - Accelerrometer : Mesures acceleration, can be used to find orientation relative to gravity/down (roll, pitch).\n",
    "        - Gyroscope : Mesures roll, pitch, yaw rotation rates. Can be integrated to obtain attitude, tendency to drift heavily (integration error accumulation).\n",
    "        - Magnetometer : Mesures magnetic fields, can obtain heading. Used as a 3D compass. Calibration excessively important.\n",
    "    - Barometer : Determine pressure, temperature, can be used to find altitude. Precise, not exact.\n",
    "\n",
    "- Propulsion system : Collect power from the battery, read motor commands from the flight computer, control speed of the four motors\n",
    "\n",
    "    - Motors and propellers : 4-6 brushless motors, 2/3/4 blade propellers\n",
    "    - ESCs (Electronic Speed Controllers) : Collect DC power from the battery, read input from Flight Computer, output AC voltage to control motor speed\n",
    "\n",
    "- Electrical System:\n",
    "\n",
    "    - Battery : Typically 11.1V DC\n",
    "    - Voltage sensor : Read battery voltage, voltage divider\n",
    "    - 5V Bus : Supply electronics with 5V DC\n",
    "    - 3.3 Bus : Supply electronics with 3.3 V DC\n",
    "\n",
    "- Structural System:\n",
    "    - Electronics enclosure : Secures flight computer and sensors in the drone\n",
    "    - Main frame : Fits the Ele enclosure and attach points for the arms, includes landings legs (modular??)\n",
    "    - Arms : Modular arms that can be replaced, designed to hold to motors\n",
    "    - Battery Security : Fasten baterry securely to the drone\n",
    "\n",
    "- Telemetry and Radio System\n",
    "    - Radio computer : Arduino/ESP32, read radio receiver inputs, send transmit commands to the telemetry radio\n",
    "    - Receiver Radio : Multi-channel receiver, output commands as PWM signals.\n",
    "    - Telemetry Radio : Transmit drone status and flight variables to ground station\n",
    "\n"
   ]
  },
  {
   "cell_type": "markdown",
   "metadata": {},
   "source": [
    "## Flight Computer Software Decomposition"
   ]
  },
  {
   "cell_type": "markdown",
   "metadata": {},
   "source": [
    "- Data Assimilation and Preprocessing:\n",
    "    - Read I2C Buses : Read data sensor datam use sensor library\n",
    "    - Low-Pass Filer/High-Pass filter/Median filter : Filter out high or low frequency noise\n",
    "    - Process GPS Data : Parse NMEA strings, ECEF/lat-long-alt coordinate transfomrations\n",
    "    - Sensor calibration : Apply calibration parameters to sensor readings for realistic measuremnents (IMPORTANT)\n",
    "\n",
    "- Sensor fusion and state estimation:\n",
    "    - Madwick filter (**AHRS** fusion.h librairy) or Kalman filter (EKF/UKF) : Fuses sensor data, estimate state variables\n",
    "    - Time integration of rates :\n",
    "        - Integration algorithms : Euleur integration/Freq-Domain Integration/*RK2*/**RK4** (maybe look at quaternions), fusion does it for us\n",
    "    - Control Law : Given pilot or guidance/navigation algorithm input, determine the motor commands to control the craft to the desired state\n",
    "        - Nonlinear LQR/PID Controller\n",
    "    - Guidandance and Navigation Laws : Detrmine how to get the drone to a desired flight path\n",
    "    -Flight Mode Switching: How to swtich between flight modes, determines state varibales for each mode\n",
    "        - Hover\n",
    "        - Flight\n",
    "        - Touchdown/Takeoff\n"
   ]
  },
  {
   "cell_type": "markdown",
   "metadata": {},
   "source": [
    "## Radio Computer Software Decomposition"
   ]
  },
  {
   "cell_type": "markdown",
   "metadata": {},
   "source": [
    "- Read Pilots Inputs : Read PWM signals from the radio receiver and collect stick positions\n",
    "- Transmit Inputs to Flight Computer : Communicate pilot inputs/stick positions to the flight computer over UART (wtv that means) port\n",
    "- Collect Telemetry Data from Flight Computer: Read data from Flight Computer over UART port\n",
    "- Construct Data Packets/Transmissions strings to send"
   ]
  },
  {
   "cell_type": "markdown",
   "metadata": {},
   "source": []
  }
 ],
 "metadata": {
  "kernelspec": {
   "display_name": "Python 3",
   "language": "python",
   "name": "python3"
  },
  "language_info": {
   "codemirror_mode": {
    "name": "ipython",
    "version": 3
   },
   "file_extension": ".py",
   "mimetype": "text/x-python",
   "name": "python",
   "nbconvert_exporter": "python",
   "pygments_lexer": "ipython3",
   "version": "3.11.9"
  }
 },
 "nbformat": 4,
 "nbformat_minor": 2
}
